{
 "cells": [
  {
   "cell_type": "markdown",
   "id": "12031411",
   "metadata": {},
   "source": [
    "## CAPSTONE PROJECT ON CUSTOMER SUBSCRIPTION "
   ]
  },
  {
   "cell_type": "code",
   "execution_count": 3,
   "id": "529ed3a2",
   "metadata": {},
   "outputs": [
    {
     "data": {
      "text/html": [
       "<div>\n",
       "<style scoped>\n",
       "    .dataframe tbody tr th:only-of-type {\n",
       "        vertical-align: middle;\n",
       "    }\n",
       "\n",
       "    .dataframe tbody tr th {\n",
       "        vertical-align: top;\n",
       "    }\n",
       "\n",
       "    .dataframe thead th {\n",
       "        text-align: right;\n",
       "    }\n",
       "</style>\n",
       "<table border=\"1\" class=\"dataframe\">\n",
       "  <thead>\n",
       "    <tr style=\"text-align: right;\">\n",
       "      <th></th>\n",
       "      <th>Customer ID</th>\n",
       "      <th>Age</th>\n",
       "      <th>Gender</th>\n",
       "      <th>Item Purchased</th>\n",
       "      <th>Category</th>\n",
       "      <th>Purchase Amount (USD)</th>\n",
       "      <th>Location</th>\n",
       "      <th>Size</th>\n",
       "      <th>Color</th>\n",
       "      <th>Season</th>\n",
       "      <th>Review Rating</th>\n",
       "      <th>Subscription Status</th>\n",
       "      <th>Shipping Type</th>\n",
       "      <th>Discount Applied</th>\n",
       "      <th>Promo Code Used</th>\n",
       "      <th>Previous Purchases</th>\n",
       "      <th>Payment Method</th>\n",
       "      <th>Frequency of Purchases</th>\n",
       "    </tr>\n",
       "  </thead>\n",
       "  <tbody>\n",
       "    <tr>\n",
       "      <th>0</th>\n",
       "      <td>1</td>\n",
       "      <td>55</td>\n",
       "      <td>Male</td>\n",
       "      <td>Blouse</td>\n",
       "      <td>Clothing</td>\n",
       "      <td>53</td>\n",
       "      <td>Kentucky</td>\n",
       "      <td>L</td>\n",
       "      <td>Gray</td>\n",
       "      <td>Winter</td>\n",
       "      <td>3.1</td>\n",
       "      <td>Yes</td>\n",
       "      <td>Express</td>\n",
       "      <td>Yes</td>\n",
       "      <td>Yes</td>\n",
       "      <td>14</td>\n",
       "      <td>Venmo</td>\n",
       "      <td>Fortnightly</td>\n",
       "    </tr>\n",
       "    <tr>\n",
       "      <th>1</th>\n",
       "      <td>2</td>\n",
       "      <td>19</td>\n",
       "      <td>Male</td>\n",
       "      <td>Sweater</td>\n",
       "      <td>Clothing</td>\n",
       "      <td>64</td>\n",
       "      <td>Maine</td>\n",
       "      <td>L</td>\n",
       "      <td>Maroon</td>\n",
       "      <td>Winter</td>\n",
       "      <td>3.1</td>\n",
       "      <td>Yes</td>\n",
       "      <td>Express</td>\n",
       "      <td>Yes</td>\n",
       "      <td>Yes</td>\n",
       "      <td>2</td>\n",
       "      <td>Cash</td>\n",
       "      <td>Fortnightly</td>\n",
       "    </tr>\n",
       "    <tr>\n",
       "      <th>2</th>\n",
       "      <td>3</td>\n",
       "      <td>50</td>\n",
       "      <td>Male</td>\n",
       "      <td>Jeans</td>\n",
       "      <td>Clothing</td>\n",
       "      <td>73</td>\n",
       "      <td>Massachusetts</td>\n",
       "      <td>S</td>\n",
       "      <td>Maroon</td>\n",
       "      <td>Spring</td>\n",
       "      <td>3.1</td>\n",
       "      <td>Yes</td>\n",
       "      <td>Free Shipping</td>\n",
       "      <td>Yes</td>\n",
       "      <td>Yes</td>\n",
       "      <td>23</td>\n",
       "      <td>Credit Card</td>\n",
       "      <td>Weekly</td>\n",
       "    </tr>\n",
       "    <tr>\n",
       "      <th>3</th>\n",
       "      <td>4</td>\n",
       "      <td>21</td>\n",
       "      <td>Male</td>\n",
       "      <td>Sandals</td>\n",
       "      <td>Footwear</td>\n",
       "      <td>90</td>\n",
       "      <td>Rhode Island</td>\n",
       "      <td>M</td>\n",
       "      <td>Maroon</td>\n",
       "      <td>Spring</td>\n",
       "      <td>3.5</td>\n",
       "      <td>Yes</td>\n",
       "      <td>Next Day Air</td>\n",
       "      <td>Yes</td>\n",
       "      <td>Yes</td>\n",
       "      <td>49</td>\n",
       "      <td>PayPal</td>\n",
       "      <td>Weekly</td>\n",
       "    </tr>\n",
       "    <tr>\n",
       "      <th>4</th>\n",
       "      <td>5</td>\n",
       "      <td>45</td>\n",
       "      <td>Male</td>\n",
       "      <td>Blouse</td>\n",
       "      <td>Clothing</td>\n",
       "      <td>49</td>\n",
       "      <td>Oregon</td>\n",
       "      <td>M</td>\n",
       "      <td>Turquoise</td>\n",
       "      <td>Spring</td>\n",
       "      <td>2.7</td>\n",
       "      <td>Yes</td>\n",
       "      <td>Free Shipping</td>\n",
       "      <td>Yes</td>\n",
       "      <td>Yes</td>\n",
       "      <td>31</td>\n",
       "      <td>PayPal</td>\n",
       "      <td>Annually</td>\n",
       "    </tr>\n",
       "    <tr>\n",
       "      <th>...</th>\n",
       "      <td>...</td>\n",
       "      <td>...</td>\n",
       "      <td>...</td>\n",
       "      <td>...</td>\n",
       "      <td>...</td>\n",
       "      <td>...</td>\n",
       "      <td>...</td>\n",
       "      <td>...</td>\n",
       "      <td>...</td>\n",
       "      <td>...</td>\n",
       "      <td>...</td>\n",
       "      <td>...</td>\n",
       "      <td>...</td>\n",
       "      <td>...</td>\n",
       "      <td>...</td>\n",
       "      <td>...</td>\n",
       "      <td>...</td>\n",
       "      <td>...</td>\n",
       "    </tr>\n",
       "    <tr>\n",
       "      <th>3895</th>\n",
       "      <td>3896</td>\n",
       "      <td>40</td>\n",
       "      <td>Female</td>\n",
       "      <td>Hoodie</td>\n",
       "      <td>Clothing</td>\n",
       "      <td>28</td>\n",
       "      <td>Virginia</td>\n",
       "      <td>L</td>\n",
       "      <td>Turquoise</td>\n",
       "      <td>Summer</td>\n",
       "      <td>4.2</td>\n",
       "      <td>No</td>\n",
       "      <td>2-Day Shipping</td>\n",
       "      <td>No</td>\n",
       "      <td>No</td>\n",
       "      <td>32</td>\n",
       "      <td>Venmo</td>\n",
       "      <td>Weekly</td>\n",
       "    </tr>\n",
       "    <tr>\n",
       "      <th>3896</th>\n",
       "      <td>3897</td>\n",
       "      <td>52</td>\n",
       "      <td>Female</td>\n",
       "      <td>Backpack</td>\n",
       "      <td>Accessories</td>\n",
       "      <td>49</td>\n",
       "      <td>Iowa</td>\n",
       "      <td>L</td>\n",
       "      <td>White</td>\n",
       "      <td>Spring</td>\n",
       "      <td>4.5</td>\n",
       "      <td>No</td>\n",
       "      <td>Store Pickup</td>\n",
       "      <td>No</td>\n",
       "      <td>No</td>\n",
       "      <td>41</td>\n",
       "      <td>Bank Transfer</td>\n",
       "      <td>Bi-Weekly</td>\n",
       "    </tr>\n",
       "    <tr>\n",
       "      <th>3897</th>\n",
       "      <td>3898</td>\n",
       "      <td>46</td>\n",
       "      <td>Female</td>\n",
       "      <td>Belt</td>\n",
       "      <td>Accessories</td>\n",
       "      <td>33</td>\n",
       "      <td>New Jersey</td>\n",
       "      <td>L</td>\n",
       "      <td>Green</td>\n",
       "      <td>Spring</td>\n",
       "      <td>2.9</td>\n",
       "      <td>No</td>\n",
       "      <td>Standard</td>\n",
       "      <td>No</td>\n",
       "      <td>No</td>\n",
       "      <td>24</td>\n",
       "      <td>Venmo</td>\n",
       "      <td>Quarterly</td>\n",
       "    </tr>\n",
       "    <tr>\n",
       "      <th>3898</th>\n",
       "      <td>3899</td>\n",
       "      <td>44</td>\n",
       "      <td>Female</td>\n",
       "      <td>Shoes</td>\n",
       "      <td>Footwear</td>\n",
       "      <td>77</td>\n",
       "      <td>Minnesota</td>\n",
       "      <td>S</td>\n",
       "      <td>Brown</td>\n",
       "      <td>Summer</td>\n",
       "      <td>3.8</td>\n",
       "      <td>No</td>\n",
       "      <td>Express</td>\n",
       "      <td>No</td>\n",
       "      <td>No</td>\n",
       "      <td>24</td>\n",
       "      <td>Venmo</td>\n",
       "      <td>Weekly</td>\n",
       "    </tr>\n",
       "    <tr>\n",
       "      <th>3899</th>\n",
       "      <td>3900</td>\n",
       "      <td>52</td>\n",
       "      <td>Female</td>\n",
       "      <td>Handbag</td>\n",
       "      <td>Accessories</td>\n",
       "      <td>81</td>\n",
       "      <td>California</td>\n",
       "      <td>M</td>\n",
       "      <td>Beige</td>\n",
       "      <td>Spring</td>\n",
       "      <td>3.1</td>\n",
       "      <td>No</td>\n",
       "      <td>Store Pickup</td>\n",
       "      <td>No</td>\n",
       "      <td>No</td>\n",
       "      <td>33</td>\n",
       "      <td>Venmo</td>\n",
       "      <td>Quarterly</td>\n",
       "    </tr>\n",
       "  </tbody>\n",
       "</table>\n",
       "<p>3900 rows × 18 columns</p>\n",
       "</div>"
      ],
      "text/plain": [
       "      Customer ID  Age  Gender Item Purchased     Category  \\\n",
       "0               1   55    Male         Blouse     Clothing   \n",
       "1               2   19    Male        Sweater     Clothing   \n",
       "2               3   50    Male          Jeans     Clothing   \n",
       "3               4   21    Male        Sandals     Footwear   \n",
       "4               5   45    Male         Blouse     Clothing   \n",
       "...           ...  ...     ...            ...          ...   \n",
       "3895         3896   40  Female         Hoodie     Clothing   \n",
       "3896         3897   52  Female       Backpack  Accessories   \n",
       "3897         3898   46  Female           Belt  Accessories   \n",
       "3898         3899   44  Female          Shoes     Footwear   \n",
       "3899         3900   52  Female        Handbag  Accessories   \n",
       "\n",
       "      Purchase Amount (USD)       Location Size      Color  Season  \\\n",
       "0                        53       Kentucky    L       Gray  Winter   \n",
       "1                        64          Maine    L     Maroon  Winter   \n",
       "2                        73  Massachusetts    S     Maroon  Spring   \n",
       "3                        90   Rhode Island    M     Maroon  Spring   \n",
       "4                        49         Oregon    M  Turquoise  Spring   \n",
       "...                     ...            ...  ...        ...     ...   \n",
       "3895                     28       Virginia    L  Turquoise  Summer   \n",
       "3896                     49           Iowa    L      White  Spring   \n",
       "3897                     33     New Jersey    L      Green  Spring   \n",
       "3898                     77      Minnesota    S      Brown  Summer   \n",
       "3899                     81     California    M      Beige  Spring   \n",
       "\n",
       "      Review Rating Subscription Status   Shipping Type Discount Applied  \\\n",
       "0               3.1                 Yes         Express              Yes   \n",
       "1               3.1                 Yes         Express              Yes   \n",
       "2               3.1                 Yes   Free Shipping              Yes   \n",
       "3               3.5                 Yes    Next Day Air              Yes   \n",
       "4               2.7                 Yes   Free Shipping              Yes   \n",
       "...             ...                 ...             ...              ...   \n",
       "3895            4.2                  No  2-Day Shipping               No   \n",
       "3896            4.5                  No    Store Pickup               No   \n",
       "3897            2.9                  No        Standard               No   \n",
       "3898            3.8                  No         Express               No   \n",
       "3899            3.1                  No    Store Pickup               No   \n",
       "\n",
       "     Promo Code Used  Previous Purchases Payment Method Frequency of Purchases  \n",
       "0                Yes                  14          Venmo            Fortnightly  \n",
       "1                Yes                   2           Cash            Fortnightly  \n",
       "2                Yes                  23    Credit Card                 Weekly  \n",
       "3                Yes                  49         PayPal                 Weekly  \n",
       "4                Yes                  31         PayPal               Annually  \n",
       "...              ...                 ...            ...                    ...  \n",
       "3895              No                  32          Venmo                 Weekly  \n",
       "3896              No                  41  Bank Transfer              Bi-Weekly  \n",
       "3897              No                  24          Venmo              Quarterly  \n",
       "3898              No                  24          Venmo                 Weekly  \n",
       "3899              No                  33          Venmo              Quarterly  \n",
       "\n",
       "[3900 rows x 18 columns]"
      ]
     },
     "execution_count": 3,
     "metadata": {},
     "output_type": "execute_result"
    }
   ],
   "source": [
    "#Importing Relevant libraries and the dataset to work with\n",
    "import pandas as pd\n",
    "r = pd.read_csv('SB.csv')\n",
    "\n",
    "r"
   ]
  },
  {
   "cell_type": "markdown",
   "id": "392d4eaa",
   "metadata": {},
   "source": [
    "### Data Cleaning "
   ]
  },
  {
   "cell_type": "code",
   "execution_count": 56,
   "id": "51062f45",
   "metadata": {},
   "outputs": [
    {
     "name": "stdout",
     "output_type": "stream",
     "text": [
      "Missing values:\n",
      "Customer ID               0\n",
      "Age                       0\n",
      "Gender                    0\n",
      "Product                   0\n",
      "Category                  0\n",
      "Price(USD)                0\n",
      "Location                  0\n",
      "Size                      0\n",
      "Color                     0\n",
      "Season                    0\n",
      "Review Rating             0\n",
      "Subscription Status       0\n",
      "Shipping Type             0\n",
      "Discount Applied          0\n",
      "Promo Code Used           0\n",
      "Previous Purchases        0\n",
      "Payment Method            0\n",
      "Frequency of Purchases    0\n",
      "Z_Purchase                0\n",
      "dtype: int64\n"
     ]
    }
   ],
   "source": [
    "#Check for and delete any missing Values\n",
    "print(\"Missing values:\")\n",
    "print(r.isnull().sum())"
   ]
  },
  {
   "cell_type": "markdown",
   "id": "8bcb80e1",
   "metadata": {},
   "source": [
    "There are no missing or null values"
   ]
  },
  {
   "cell_type": "code",
   "execution_count": 52,
   "id": "bd9d44cb",
   "metadata": {},
   "outputs": [
    {
     "name": "stdout",
     "output_type": "stream",
     "text": [
      "Empty DataFrame\n",
      "Columns: [Customer ID, Age, Gender, Product, Category, Price(USD), Location, Size, Color, Season, Review Rating, Subscription Status, Shipping Type, Discount Applied, Promo Code Used, Previous Purchases, Payment Method, Frequency of Purchases, Z_Purchase]\n",
      "Index: []\n",
      "Number of unique rows: (3900, 19)\n"
     ]
    }
   ],
   "source": [
    "#Identifying duplicates in the Unique identifiers if any \n",
    "# Identify the duplicates\n",
    "Duplicates = r[r['Customer ID'].duplicated()]\n",
    "print(Duplicates)\n",
    "\n",
    "#Confirming Unique rows by Removing duplicates\n",
    "Unique = r.drop_duplicates()\n",
    "print(\"Number of unique rows:\", Unique.shape)"
   ]
  },
  {
   "cell_type": "markdown",
   "id": "7c0bebea",
   "metadata": {},
   "source": [
    "There are no duplicate values"
   ]
  },
  {
   "cell_type": "code",
   "execution_count": 5,
   "id": "2f6550ea",
   "metadata": {},
   "outputs": [
    {
     "name": "stdout",
     "output_type": "stream",
     "text": [
      "Customer ID                 int64\n",
      "Age                         int64\n",
      "Gender                     object\n",
      "Product                    object\n",
      "Category                   object\n",
      "Price                       int64\n",
      "Location                   object\n",
      "Size                       object\n",
      "Color                      object\n",
      "Season                     object\n",
      "Review Rating             float64\n",
      "Subscription Status        object\n",
      "Shipping Type              object\n",
      "Discount Applied           object\n",
      "Promo Code Used            object\n",
      "Previous Purchases          int64\n",
      "Payment Method             object\n",
      "Frequency of Purchases     object\n",
      "dtype: object\n"
     ]
    }
   ],
   "source": [
    "#Renaming Columns\n",
    "r.rename(columns={'Purchase Amount (USD)': 'Price(USD)'}, inplace = True)\n",
    "r.rename(columns ={'Item Purchased': 'Product'}, inplace = True)\n",
    "r.rename(columns={'Price(USD)': 'Price'}, inplace = True)\n",
    "#Checking the data types and correcting any Anomalies\n",
    "print(r.dtypes)\n"
   ]
  },
  {
   "cell_type": "code",
   "execution_count": 16,
   "id": "b1597774",
   "metadata": {},
   "outputs": [
    {
     "name": "stdout",
     "output_type": "stream",
     "text": [
      "Empty DataFrame\n",
      "Columns: [Customer ID, Age, Gender, Product, Category, Price, Location, Size, Color, Season, Review Rating, Subscription Status, Shipping Type, Discount Applied, Promo Code Used, Previous Purchases, Payment Method, Frequency of Purchases, Customer_Segment, Customer_Category, Age group, Z_Purchase]\n",
      "Index: []\n",
      "\n",
      "[0 rows x 22 columns]\n"
     ]
    }
   ],
   "source": [
    "#Detecting Outliers in the dataset using Z-Score\n",
    "from scipy.stats import zscore\n",
    "r['Z_Purchase'] = zscore(r['Previous Purchases'])\n",
    "outliers = r[r['Z_Purchase'].abs() > 3]\n",
    "print(outliers)"
   ]
  },
  {
   "cell_type": "markdown",
   "id": "e9d52d80",
   "metadata": {},
   "source": [
    "All the columns with integer or numeric datatypes should be subjected to this test. If it returns an empty df, there are no Outliers. There are no Outliers in this dataset"
   ]
  },
  {
   "cell_type": "markdown",
   "id": "7b6b1273",
   "metadata": {},
   "source": [
    "### Data Transformation"
   ]
  },
  {
   "cell_type": "code",
   "execution_count": 17,
   "id": "1f4d6a7f",
   "metadata": {},
   "outputs": [
    {
     "name": "stdout",
     "output_type": "stream",
     "text": [
      "18\n"
     ]
    }
   ],
   "source": [
    "#Determining the min and max age before categoring \n",
    "Minim = r['Age'].min()\n",
    "print(Minim)\n",
    "#Categorizing\n",
    "r['Age group'] = pd.cut(r['Age'], bins=[0,12,19,40,50,100], labels= ['Child','Teenager','Young adult','Adult',\n",
    "                                                                     'Older Adult'], include_lowest = True)\n",
    "A= r[['Age','Age group']]"
   ]
  },
  {
   "cell_type": "markdown",
   "id": "976df355",
   "metadata": {},
   "source": [
    "Using Feature engineering to convert Age into Age groups "
   ]
  },
  {
   "cell_type": "code",
   "execution_count": 16,
   "id": "4be7279d",
   "metadata": {},
   "outputs": [
    {
     "name": "stdout",
     "output_type": "stream",
     "text": [
      "20\n"
     ]
    }
   ],
   "source": [
    "#Determining the min and max price before categoring \n",
    "Minim = r['Price'].min()\n",
    "print(Minim)\n",
    "#Categorizing\n",
    "r['Customer_Category'] = pd.cut(r['Price'], bins= [0,30,50,100], labels= ['Cheap Buyers', 'Budget Buyers', 'Luxury Buyers'],\n",
    "                                                                            include_lowest = True)\n",
    "B= r[['Price', 'Customer_Category']]"
   ]
  },
  {
   "cell_type": "markdown",
   "id": "001159dc",
   "metadata": {},
   "source": [
    "Using Feature engineering to categorize customers based on the amount they spend on the products "
   ]
  },
  {
   "cell_type": "markdown",
   "id": "0d5bfb10",
   "metadata": {},
   "source": [
    "### Data Modelling"
   ]
  },
  {
   "cell_type": "markdown",
   "id": "1abe001d",
   "metadata": {},
   "source": [
    "Customer Segmentation with K_Means in order to group customers based on similar behaviour(spending, purchases and demographics)"
   ]
  },
  {
   "cell_type": "code",
   "execution_count": 6,
   "id": "ac9e6ca6",
   "metadata": {},
   "outputs": [
    {
     "data": {
      "image/png": "[encoded data removed]",
      "text/plain": [
       "<Figure size 432x288 with 1 Axes>"
      ]
     },
     "metadata": {
      "needs_background": "light"
     },
     "output_type": "display_data"
    }
   ],
   "source": [
    "from sklearn.cluster import KMeans\n",
    "import matplotlib.pyplot as plt\n",
    "\n",
    "#Select clustering Features\n",
    "features = r[['Age', 'Previous Purchases', 'Price']]\n",
    "#Standardize\n",
    "from sklearn.preprocessing import StandardScaler\n",
    "scaler = StandardScaler()\n",
    "scaled_features = scaler.fit_transform(features)\n",
    "#Choose number of clusters using the elbow method\n",
    "wcss= []\n",
    "for k in range(1,10):\n",
    "    kmeans=KMeans(n_clusters=k, random_state=42)\n",
    "    kmeans.fit(scaled_features)\n",
    "    wcss.append(kmeans.inertia_)\n",
    "plt.plot(range(1,10), wcss)\n",
    "plt.xlabel('No. of clusters')\n",
    "plt.ylabel('WCSS')\n",
    "plt.title('Elbow Method')\n",
    "plt.show()\n",
    "#Fit final Model\n",
    "kmeans=KMeans(n_clusters=3, random_state=42)\n",
    "r['Customer_Segment']=kmeans.fit_predict(scaled_features)"
   ]
  },
  {
   "cell_type": "markdown",
   "id": "b0c9c05e",
   "metadata": {},
   "source": [
    "Customers have been put into clusters 0,1 or 2 based on their spending habit, their Age and the amount that they typically spend on shopping"
   ]
  },
  {
   "cell_type": "code",
   "execution_count": 8,
   "id": "87c590c9",
   "metadata": {},
   "outputs": [
    {
     "name": "stdout",
     "output_type": "stream",
     "text": [
      "Budget        1478\n",
      "Loyal Big     1292\n",
      "Occasional    1130\n",
      "Name: Segment Label, dtype: int64\n"
     ]
    },
    {
     "data": {
      "image/png": "[encoded data removed]",
      "text/plain": [
       "<Figure size 360x288 with 1 Axes>"
      ]
     },
     "metadata": {
      "needs_background": "light"
     },
     "output_type": "display_data"
    }
   ],
   "source": [
    "r.groupby('Customer_Segment')[['Age', 'Price', 'Previous Purchases']].mean()\n",
    "#r['Customer_Segment'] = r['Customer_Segment'].replace({0: 'Budget', 1: 'Loyal Big', 2: 'Occasional'})\n",
    "segment_map= {0: 'Budget', 1: 'Loyal Big', 2: 'Occasional'}\n",
    "r['Segment Label']= r['Customer_Segment'].map(segment_map)\n",
    "\n",
    "C=r['Segment Label'].value_counts()\n",
    "print(C)\n",
    "\n",
    "import seaborn as sns\n",
    "plt.figure(figsize=(5,4))\n",
    "r['Segment Label'].value_counts().plot(kind='bar')\n",
    "plt.title('Customers by Segment', size = 16)\n",
    "plt.xlabel('Segment Label', color = 'purple', size = 14)\n",
    "plt.ylabel('No. of Customers', color = 'purple', size = 14)\n",
    "plt.grid(False)\n",
    "plt.show\n",
    "\n",
    "segment_map= {0: 'Budget', 1: 'Loyal Big', 2: 'Occasional'}\n",
    "r['Segment Label']= r['Customer_Segment'].map(segment_map)\n",
    "\n",
    "#Calculating the amount of passengers in each group\n",
    "social_status_group =r['Segment Label'].value_counts()"
   ]
  },
  {
   "cell_type": "markdown",
   "id": "8f96f4b2",
   "metadata": {},
   "source": [
    "Segment\n",
    "0 are the \"Young, low spenders, few purchases\"(BUDGET BUYERS).\n",
    "While 1 are the\"Middle Aged, high spenders, frequent purchases\"(LOYAL BIG BUYERS).\n",
    "And 2 are \"Older, average spenders, moderate activity\"(OCCASIONAL SHOPPERS)."
   ]
  },
  {
   "cell_type": "markdown",
   "id": "bacf7d09",
   "metadata": {},
   "source": [
    "#### Association Rule Mining(Market Based Analysis)"
   ]
  },
  {
   "cell_type": "markdown",
   "id": "6267a918",
   "metadata": {},
   "source": [
    "The goal here is to find product association, like the Buyers of Products X who also buy Product Y"
   ]
  },
  {
   "cell_type": "code",
   "execution_count": 11,
   "id": "2c3499ac",
   "metadata": {},
   "outputs": [
    {
     "name": "stdout",
     "output_type": "stream",
     "text": [
      "Requirement already satisfied: mlxtend in c:\\users\\hp\\anaconda3\\lib\\site-packages (0.23.4)\n",
      "Requirement already satisfied: scipy>=1.2.1 in c:\\users\\hp\\anaconda3\\lib\\site-packages (from mlxtend) (1.7.1)\n",
      "Requirement already satisfied: numpy>=1.16.2 in c:\\users\\hp\\anaconda3\\lib\\site-packages (from mlxtend) (1.20.3)\n",
      "Requirement already satisfied: pandas>=0.24.2 in c:\\users\\hp\\anaconda3\\lib\\site-packages (from mlxtend) (1.3.4)\n",
      "Requirement already satisfied: scikit-learn>=1.3.1 in c:\\users\\hp\\anaconda3\\lib\\site-packages (from mlxtend) (1.6.1)\n",
      "Requirement already satisfied: matplotlib>=3.0.0 in c:\\users\\hp\\anaconda3\\lib\\site-packages (from mlxtend) (3.4.3)\n",
      "Requirement already satisfied: joblib>=0.13.2 in c:\\users\\hp\\anaconda3\\lib\\site-packages (from mlxtend) (1.4.2)\n",
      "Requirement already satisfied: cycler>=0.10 in c:\\users\\hp\\anaconda3\\lib\\site-packages (from matplotlib>=3.0.0->mlxtend) (0.10.0)\n",
      "Requirement already satisfied: kiwisolver>=1.0.1 in c:\\users\\hp\\anaconda3\\lib\\site-packages (from matplotlib>=3.0.0->mlxtend) (1.3.1)\n",
      "Requirement already satisfied: pillow>=6.2.0 in c:\\users\\hp\\anaconda3\\lib\\site-packages (from matplotlib>=3.0.0->mlxtend) (8.4.0)\n",
      "Requirement already satisfied: pyparsing>=2.2.1 in c:\\users\\hp\\anaconda3\\lib\\site-packages (from matplotlib>=3.0.0->mlxtend) (3.0.4)\n",
      "Requirement already satisfied: python-dateutil>=2.7 in c:\\users\\hp\\anaconda3\\lib\\site-packages (from matplotlib>=3.0.0->mlxtend) (2.8.2)\n",
      "Requirement already satisfied: six in c:\\users\\hp\\anaconda3\\lib\\site-packages (from cycler>=0.10->matplotlib>=3.0.0->mlxtend) (1.16.0)\n",
      "Requirement already satisfied: pytz>=2017.3 in c:\\users\\hp\\anaconda3\\lib\\site-packages (from pandas>=0.24.2->mlxtend) (2021.3)\n",
      "Requirement already satisfied: threadpoolctl>=3.1.0 in c:\\users\\hp\\anaconda3\\lib\\site-packages (from scikit-learn>=1.3.1->mlxtend) (3.6.0)\n",
      "Note: you may need to restart the kernel to use updated packages.\n"
     ]
    },
    {
     "name": "stderr",
     "output_type": "stream",
     "text": [
      "WARNING: Error parsing dependencies of pyodbc: Invalid version: '4.0.0-unsupported'\n",
      "ERROR: Exception:\n",
      "Traceback (most recent call last):\n",
      "  File \"C:\\Users\\HP\\Anaconda3\\lib\\site-packages\\pip\\_internal\\cli\\base_command.py\", line 105, in _run_wrapper\n",
      "    status = _inner_run()\n",
      "  File \"C:\\Users\\HP\\Anaconda3\\lib\\site-packages\\pip\\_internal\\cli\\base_command.py\", line 96, in _inner_run\n",
      "    return self.run(options, args)\n",
      "  File \"C:\\Users\\HP\\Anaconda3\\lib\\site-packages\\pip\\_internal\\cli\\req_command.py\", line 68, in wrapper\n",
      "    return func(self, options, args)\n",
      "  File \"C:\\Users\\HP\\Anaconda3\\lib\\site-packages\\pip\\_internal\\commands\\install.py\", line 486, in run\n",
      "    installed_versions[distribution.canonical_name] = distribution.version\n",
      "  File \"C:\\Users\\HP\\Anaconda3\\lib\\site-packages\\pip\\_internal\\metadata\\pkg_resources.py\", line 192, in version\n",
      "    return parse_version(self._dist.version)\n",
      "  File \"C:\\Users\\HP\\Anaconda3\\lib\\site-packages\\pip\\_vendor\\packaging\\version.py\", line 56, in parse\n",
      "    return Version(version)\n",
      "  File \"C:\\Users\\HP\\Anaconda3\\lib\\site-packages\\pip\\_vendor\\packaging\\version.py\", line 202, in __init__\n",
      "    raise InvalidVersion(f\"Invalid version: {version!r}\")\n",
      "pip._vendor.packaging.version.InvalidVersion: Invalid version: '4.0.0-unsupported'\n"
     ]
    }
   ],
   "source": [
    "pip install mlxtend"
   ]
  },
  {
   "cell_type": "markdown",
   "id": "56ce5c3a",
   "metadata": {},
   "source": [
    "### Data Analysis and Visualization"
   ]
  },
  {
   "cell_type": "markdown",
   "id": "7bfb388d",
   "metadata": {},
   "source": [
    "Customer Segmentation and Personalization"
   ]
  },
  {
   "cell_type": "markdown",
   "id": "681f2cd7",
   "metadata": {},
   "source": [
    "#### Analysis by Gender"
   ]
  },
  {
   "cell_type": "code",
   "execution_count": 18,
   "id": "93e3ba3c",
   "metadata": {},
   "outputs": [
    {
     "name": "stdout",
     "output_type": "stream",
     "text": [
      "Count of M and F customers:\n",
      "Male      2652\n",
      "Female    1248\n",
      "Name: Gender, dtype: int64\n",
      "\n",
      "Amount spent in each szn:\n",
      "Gender      Female        Male\n",
      "Season                        \n",
      "Fall    $20,193.00  $39,825.00\n",
      "Spring  $18,578.00  $40,101.00\n",
      "Summer  $18,060.00  $37,717.00\n",
      "Winter  $18,360.00  $40,247.00\n",
      "\n",
      "Amount spent in each category:\n",
      "Gender                 Female         Male\n",
      "Customer_Category                         \n",
      "Cheap Buyers        $4,095.00    $9,688.00\n",
      "Budget Buyers      $12,286.00   $26,304.00\n",
      "Luxury Buyers      $58,810.00  $121,898.00\n",
      "\n",
      "Amount spent in each category:\n",
      "Gender           Female        Male\n",
      "Category                           \n",
      "Accessories  $23,819.00  $50,381.00\n",
      "Clothing     $33,636.00  $70,628.00\n",
      "Footwear     $11,835.00  $24,258.00\n",
      "Outerwear     $5,901.00  $12,623.00\n",
      "\n",
      "Subscriber status by Gender:\n",
      "Subscription Status    No   Yes\n",
      "Gender                         \n",
      "Female               1248     0\n",
      "Male                 1599  1053\n",
      "\n",
      "Colors preferred by M and F:\n",
      "   Gender   Color  Count\n",
      "0  Female  Yellow     60\n",
      "1  Female   Olive     59\n",
      "2  Female    Pink     58\n",
      "3    Male  Silver    121\n",
      "4    Male    Teal    119\n",
      "5    Male    Cyan    119\n",
      "\n",
      "Colors preferred by M and F:\n",
      "   Gender  Product  Count\n",
      "0  Female   Blouse     66\n",
      "1  Female    Shirt     59\n",
      "2  Female  Sandals     59\n",
      "3    Male    Pants    123\n",
      "4    Male  Jewelry    119\n",
      "5    Male  Sweater    114\n"
     ]
    }
   ],
   "source": [
    "#Count of M and F customers\n",
    "COUNT = r['Gender'].value_counts()\n",
    "print(\"Count of M and F customers:\")\n",
    "print(COUNT)\n",
    "\n",
    "#Amount spent in each szn\n",
    "GSP = r.groupby(['Season','Gender'])['Price'].sum().unstack()\n",
    "f_GSP = GSP.applymap(lambda x:f\"${x:,.2f}\")\n",
    "print(\"\\nAmount spent in each szn:\")\n",
    "print(f_GSP)\n",
    "\n",
    "#Amount spent by the M and F in each customer category\n",
    "CCGP = r.groupby(['Customer_Category','Gender'])['Price'].sum().unstack()\n",
    "f_CCGP = CCGP.applymap(lambda x:f\"${x:,.2f}\")\n",
    "print(\"\\nAmount spent in each category:\")\n",
    "print(f_CCGP)\n",
    "\n",
    "#Amount spent on each category\n",
    "CGP = r.groupby(['Category','Gender'])['Price'].sum().unstack()\n",
    "f_CGP = CGP.applymap(lambda x:f\"${x:,.2f}\")\n",
    "print(\"\\nAmount spent in each category:\")\n",
    "print(f_CGP)\n",
    "\n",
    "#Subscriber status by Gender\n",
    "subs_summary = pd.crosstab(r['Gender'], r['Subscription Status'])\n",
    "print(\"\\nSubscriber status by Gender:\")\n",
    "print(subs_summary)\n",
    "\n",
    "#Top 3 Colors preferred by M and F\n",
    "color_count =r.groupby(['Gender', 'Color']).size().reset_index(name= 'Count')\n",
    "top_3 = color_count.groupby('Gender').apply(lambda x: x.sort_values('Count', ascending=False).head(3)).reset_index(drop=True)\n",
    "print(\"\\nColors preferred by M and F:\")\n",
    "print(top_3)\n",
    "\n",
    "#What is the most sort after Product by M and F \n",
    "product_count =r.groupby(['Gender', 'Product']).size().reset_index(name= 'Count')\n",
    "top_products = product_count.groupby('Gender').apply(lambda x: x.sort_values('Count', ascending=False).head(3)).reset_index(drop=True)\n",
    "print(\"\\nColors preferred by M and F:\")\n",
    "print(top_products)"
   ]
  },
  {
   "cell_type": "markdown",
   "id": "d03b4e8d",
   "metadata": {},
   "source": [
    "From our analysis, we can see that in total, we have more male customers that female and so it is no suprise that the men spent way more money across seasons and in different categories than women did. We can also see that we have more \"non-subscribers\" than we do \"subscribers\", however, it is a bit shocking to see that none of the female customers are subscribers. We can also see that women spend the most in FALL, while for the men, its the WINTER season. And knowing that the most purchased category for both gender is CLOTHING, it just tells us that women prioritize spending on falls clothes and men on Winter clothes"
   ]
  },
  {
   "cell_type": "code",
   "execution_count": 58,
   "id": "7cdf1a8e",
   "metadata": {},
   "outputs": [
    {
     "data": {
      "image/png": "[encoded data removed]",
      "text/plain": [
       "<Figure size 360x216 with 1 Axes>"
      ]
     },
     "metadata": {
      "needs_background": "light"
     },
     "output_type": "display_data"
    },
    {
     "data": {
      "image/png": "[encoded data removed]",
      "text/plain": [
       "<Figure size 360x216 with 1 Axes>"
      ]
     },
     "metadata": {
      "needs_background": "light"
     },
     "output_type": "display_data"
    },
    {
     "data": {
      "text/plain": [
       "<Figure size 288x216 with 0 Axes>"
      ]
     },
     "metadata": {},
     "output_type": "display_data"
    },
    {
     "data": {
      "image/png": "[encoded data removed]",
      "text/plain": [
       "<Figure size 432x288 with 1 Axes>"
      ]
     },
     "metadata": {
      "needs_background": "light"
     },
     "output_type": "display_data"
    },
    {
     "data": {
      "text/plain": [
       "<Figure size 144x216 with 0 Axes>"
      ]
     },
     "metadata": {},
     "output_type": "display_data"
    },
    {
     "data": {
      "image/png": "[encoded data removed]",
      "text/plain": [
       "<Figure size 432x288 with 1 Axes>"
      ]
     },
     "metadata": {
      "needs_background": "light"
     },
     "output_type": "display_data"
    },
    {
     "data": {
      "image/png": "[encoded data removed]",
      "text/plain": [
       "<Figure size 360x288 with 1 Axes>"
      ]
     },
     "metadata": {
      "needs_background": "light"
     },
     "output_type": "display_data"
    },
    {
     "data": {
      "image/png": "[encoded data removed]",
      "text/plain": [
       "<Figure size 360x288 with 1 Axes>"
      ]
     },
     "metadata": {},
     "output_type": "display_data"
    }
   ],
   "source": [
    "#VISUALIZATION\n",
    "plt.figure(figsize=(5,3))\n",
    "sns.barplot(data = top_3, x='Color', y='Count', hue='Gender')\n",
    "plt.title('Top 3 Colors preferred by M and F')\n",
    "plt.ylabel('Number of Purchases')\n",
    "plt.xlabel('Color')\n",
    "plt.grid(False)\n",
    "plt.tight_layout()\n",
    "plt.show()\n",
    "\n",
    "#VISUALIZATION\n",
    "plt.figure(figsize=(5,3))\n",
    "sns.barplot(data = top_products, x='Product', y='Count', hue='Gender')\n",
    "plt.title('Most Sort after Product by M and F')\n",
    "plt.ylabel('Number of Purchases')\n",
    "plt.xlabel('Products')\n",
    "plt.grid(False)\n",
    "plt.tight_layout()\n",
    "plt.show()\n",
    "\n",
    "#VISUALIZATION\n",
    "plt.figure(figsize=(4,3))\n",
    "CCGP.plot(kind='bar')\n",
    "plt.title('Amount spent by the M and F in each customer category')\n",
    "plt.ylabel('Customer Category')\n",
    "plt.xlabel('Amount Spent')\n",
    "plt.tight_layout()\n",
    "plt.xticks(rotation=45)\n",
    "plt.show()\n",
    "\n",
    "#VISUALIZATION\n",
    "plt.figure(figsize=(2,3))\n",
    "subs_summary.plot(kind='bar')\n",
    "plt.title('Subscriber Summary')\n",
    "plt.ylabel('Gender')\n",
    "plt.xlabel('Subscription Status')\n",
    "plt.tight_layout()\n",
    "plt.xticks(rotation=45)\n",
    "plt.show()\n",
    "\n",
    "#VISUALIZATION\n",
    "plt.figure(figsize=(5,4))\n",
    "GSP.plot(kind='line',marker='o')\n",
    "plt.title('Most Profitable Season')\n",
    "plt.ylabel('Amount Spent')\n",
    "plt.xlabel('Season')\n",
    "plt.tight_layout()\n",
    "plt.xticks(rotation=45)\n",
    "plt.show()\n",
    "\n",
    "#VISUALIZATION\n",
    "plt.figure(figsize=(5,4))\n",
    "COUNT.plot(kind='pie')\n",
    "plt.title('Male Vs Female Customers')\n",
    "plt.tight_layout()\n",
    "plt.xticks(rotation=45)\n",
    "plt.show()"
   ]
  },
  {
   "cell_type": "markdown",
   "id": "e4820cbe",
   "metadata": {},
   "source": [
    "Here, we have displayed the most SORT AFTER product which also doubles as the product that generates the highest revenue, while also showing the most popular colors among the male and female customers"
   ]
  },
  {
   "cell_type": "code",
   "execution_count": 94,
   "id": "ca3f5cca",
   "metadata": {},
   "outputs": [
    {
     "name": "stdout",
     "output_type": "stream",
     "text": [
      "\n",
      "Repurchase status by Gender:\n",
      "Gender                  Female  Male\n",
      "Frequency of Purchases              \n",
      "Annually                   185   387\n",
      "Bi-Weekly                  188   359\n",
      "Every 3 Months             186   398\n",
      "Fortnightly                163   379\n",
      "Monthly                    185   368\n",
      "Quarterly                  169   394\n",
      "Weekly                     172   367\n"
     ]
    }
   ],
   "source": [
    "#Repurchase status by Gender\n",
    "frq_summary = pd.crosstab(r['Frequency of Purchases'], r['Gender'])\n",
    "print(\"\\nRepurchase status by Gender:\")\n",
    "print(frq_summary)"
   ]
  },
  {
   "cell_type": "code",
   "execution_count": 236,
   "id": "99993195",
   "metadata": {},
   "outputs": [
    {
     "name": "stdout",
     "output_type": "stream",
     "text": [
      "\n",
      "Average Price spent by both Gender:\n",
      "   Gender      Price\n",
      "0  Female  60.249199\n",
      "1    Male  59.536199\n",
      "\n",
      "Total Revenue generated by both Gender:\n",
      "   Gender   Price\n",
      "0  Female   75191\n",
      "1    Male  157890\n"
     ]
    }
   ],
   "source": [
    "#Average\n",
    "Avg_Price_by_Gender = r.groupby('Gender')['Price'].mean().reset_index()\n",
    "Avg_Price_by_Gender.columns= ['Gender', 'Price']\n",
    "print(\"\\nAverage Price spent by both Gender:\")\n",
    "print(Avg_Price_by_Gender)\n",
    "\n",
    "#Total\n",
    "TR_by_Gender = r.groupby('Gender')['Price'].sum().reset_index()\n",
    "TR_by_Gender.columns= ['Gender', 'Price']\n",
    "#TR_by_Gender['TR_by_Gender'] = TR_by_Gender['TR_by_Gender'].apply(lambda x: f\"${x:,.2f}\")\n",
    "#f_TR = TR_by_Gender.apply(lambda x: f\"${x:,.2f}\")\n",
    "print(\"\\nTotal Revenue generated by both Gender:\")\n",
    "print(TR_by_Gender)"
   ]
  },
  {
   "cell_type": "markdown",
   "id": "a9aa4724",
   "metadata": {},
   "source": [
    "The amount spent on average tells us which gender has the more expensive products and from this analysis, we can see that it is the women. Although women buy more expensive things, the revenue generated by men will still be more because the number of male customers in significanlty more than that of the female customers"
   ]
  },
  {
   "cell_type": "code",
   "execution_count": 137,
   "id": "73cd19fc",
   "metadata": {},
   "outputs": [
    {
     "name": "stdout",
     "output_type": "stream",
     "text": [
      "              precision    recall  f1-score   support\n",
      "\n",
      "          No       1.00      1.00      1.00      2847\n",
      "         Yes       1.00      1.00      1.00      1053\n",
      "\n",
      "    accuracy                           1.00      3900\n",
      "   macro avg       1.00      1.00      1.00      3900\n",
      "weighted avg       1.00      1.00      1.00      3900\n",
      "\n",
      "Gender_Male           0.156844\n",
      "Age                   0.155422\n",
      "Previous Purchases    0.153577\n",
      "Category_Clothing     0.027819\n",
      "Category_Footwear     0.017795\n",
      "Category_Outerwear    0.013255\n",
      "Color_Cyan            0.009603\n",
      "Color_Olive           0.009407\n",
      "Color_Lavender        0.009268\n",
      "Color_Teal            0.009235\n",
      "dtype: float64\n"
     ]
    }
   ],
   "source": [
    "#Predicting if a customer will return based on demographic and shopping behaviour\n",
    "from sklearn.ensemble import RandomForestClassifier\n",
    "from sklearn.metrics import classification_report\n",
    "import pandas as pd\n",
    "r_encoded = pd.get_dummies(r[['Gender', 'Location', 'Category', 'Color']], drop_first=True)\n",
    "\n",
    "X= pd.concat([r_encoded, r[['Age', 'Previous Purchases']]], axis =1)\n",
    "Y= r['Subscription Status']\n",
    "\n",
    "model = RandomForestClassifier()\n",
    "model.fit(X, Y)\n",
    "\n",
    "Y_pred= model.predict(X)\n",
    "print(classification_report(Y, Y_pred))\n",
    "\n",
    "importances= pd.Series(model.feature_importances_, index=X.columns)\n",
    "print(importances.sort_values(ascending=False).head(10))"
   ]
  },
  {
   "cell_type": "markdown",
   "id": "e7b24ecd",
   "metadata": {},
   "source": [
    "Because every single customer of HENIS is a returning customer, we can see from our prediction above that the chance of a customer repurchasing is always there."
   ]
  },
  {
   "cell_type": "markdown",
   "id": "c9705c21",
   "metadata": {},
   "source": [
    "##### CORRELATION "
   ]
  },
  {
   "cell_type": "markdown",
   "id": "b5fb85f3",
   "metadata": {},
   "source": [
    "First, let's convert the Qualitative data to Quantitative in order to be able to compute the correlation between the 2 variables; PRICE and SUBCRIPTION STATUS. In essence, we want to know if the total amount a person spends on Products has any effect on whether or not they are subscribed. We will also be doing the same for SUBCRIPTION STATUS and DISCOUNT APPLIED"
   ]
  },
  {
   "cell_type": "markdown",
   "id": "169368bf",
   "metadata": {},
   "source": [
    "Cramers V rule will be used to compute the correlation QUALITATIVE and QUANTITATIVE variables while PEARSON'S correlation will be used strictly for QUANTITATIVE variables. Another option in pace of Cramers V rule can be to convert the Qualitative data to Quantitative in order to be able to compute the PEARSON'S correlation"
   ]
  },
  {
   "cell_type": "code",
   "execution_count": 291,
   "id": "4ae818cf",
   "metadata": {},
   "outputs": [
    {
     "name": "stdout",
     "output_type": "stream",
     "text": [
      "0.16\n"
     ]
    }
   ],
   "source": [
    "#Using Cramer's V rule\n",
    "import scipy.stats as stats\n",
    "import numpy as np\n",
    "Contingency_table = pd.crosstab(r['Price'], r['Subcription_Status'])\n",
    "chi2, p, dof, expected = stats.chi2_contingency(Contingency_table)\n",
    "\n",
    "n= Contingency_table.sum().sum()\n",
    "min_dim= min(Contingency_table.shape) -1\n",
    "Cramers_v =np.sqrt(chi2 / (n*min_dim))\n",
    "print(round(Cramers_v, 2))"
   ]
  },
  {
   "cell_type": "markdown",
   "id": "c6669bd6",
   "metadata": {},
   "source": [
    "The result of the Cramers_V above (0.16) shows a NOT SO STRONG or LOW ASSOCIATION between Amount spent on Purchases and the SUBSCRIPTION STATUS of customers. This is to say that the whther a person is subscribed or not, it doesn't affect their spending habit A LOT, it has just a little effect on it."
   ]
  },
  {
   "cell_type": "code",
   "execution_count": 301,
   "id": "77a7869c",
   "metadata": {},
   "outputs": [
    {
     "name": "stdout",
     "output_type": "stream",
     "text": [
      "\n",
      "Cramers_V between Frequency of Purchases and Previous Purchase:\n",
      "0.11\n"
     ]
    },
    {
     "data": {
      "image/png": "[encoded data removed]",
      "text/plain": [
       "<Figure size 504x432 with 1 Axes>"
      ]
     },
     "metadata": {
      "needs_background": "light"
     },
     "output_type": "display_data"
    }
   ],
   "source": [
    "#Using Cramer's V rule\n",
    "import scipy.stats as stats\n",
    "import numpy as np\n",
    "Contingency_TABLE = pd.crosstab(r['Frequency of Purchases'], r['Previous Purchases'])\n",
    "chi2, p, dof, expected = stats.chi2_contingency(Contingency_TABLE)\n",
    "\n",
    "n= Contingency_TABLE.sum().sum()\n",
    "min_dim= min(Contingency_TABLE.shape) -1\n",
    "CRAMERS_v =np.sqrt(chi2 / (n*min_dim))\n",
    "print(\"\\nCramers_V between Frequency of Purchases and Previous Purchase:\")\n",
    "print(round(CRAMERS_v, 2))\n",
    "\n",
    "#BOX PLOT VIZ\n",
    "plt.figure(figsize=(7,6))\n",
    "sns.boxplot(x='Frequency of Purchases', y='Previous Purchases', data =r, order= ['Annually', 'Weekly', 'Quarterly', 'Bi-Weekly', \n",
    "                                                                                 'Monthly', 'Fortnightly', 'Every 3 Months'])\n",
    "plt.title('Frequency of Purchases vs Previous Purchase')\n",
    "plt.ylabel('Frequency of Purchases')\n",
    "plt.xlabel('Number of Previous Purchases')\n",
    "plt.xticks(rotation=45)\n",
    "plt.tight_layout()\n",
    "plt.show()"
   ]
  },
  {
   "cell_type": "markdown",
   "id": "58b7c680",
   "metadata": {},
   "source": [
    "From the viz above, we can see that the Medians(middle line in each box plot) for each group hovers around the mid-20s to high-20s and this indicates (1)A FAIRLY CONSISTENT median purchase frequency, (2)None of the Previous Purchase categories stands out as being linked to significantly HIGHER OR LOWER purchase frequencies. For HENIS, this means that CUSTOMER BEHAVIOUR is DIVERSE even when they are within the same previous purchase group and so impelementing \"Blanket\" strategies for customer retention might not work. The best bet will be to tailor strategies that speak to the social status of these customers and we have already created such called CUSTOMER CATEGORY."
   ]
  },
  {
   "cell_type": "code",
   "execution_count": 313,
   "id": "e8c12b97",
   "metadata": {},
   "outputs": [
    {
     "name": "stdout",
     "output_type": "stream",
     "text": [
      "\n",
      "Cramers_V between Frequency of Purchases and subscription status:\n",
      "0.03\n"
     ]
    },
    {
     "data": {
      "image/png": "[encoded data removed]",
      "text/plain": [
       "<Figure size 360x432 with 2 Axes>"
      ]
     },
     "metadata": {
      "needs_background": "light"
     },
     "output_type": "display_data"
    }
   ],
   "source": [
    "#Using Cramer's V rule\n",
    "contingency_table = pd.crosstab(r['Frequency of Purchases'], r['Subcription_Status'])\n",
    "chi2, p, dof, expected = stats.chi2_contingency(contingency_table)\n",
    "\n",
    "n= contigency_table.sum().sum()\n",
    "min_dim= min(contingency_table.shape) -1\n",
    "cramers_v =np.sqrt(chi2 / (n*min_dim))\n",
    "print(\"\\nCramers_V between Frequency of Purchases and subscription status:\")\n",
    "print(round(cramers_v, 2))\n",
    "\n",
    "#HEAT MAP\n",
    "plt.figure(figsize=(5,6))\n",
    "sns.heatmap(contingency_table, annot =True, cmap='Reds', fmt='d')\n",
    "\n",
    "plt.title('Frequency of Purchases vs Subscription status')\n",
    "plt.ylabel('Subscription status')\n",
    "plt.xlabel('Frequency of Purchases')\n",
    "plt.tight_layout()\n",
    "plt.show()"
   ]
  },
  {
   "cell_type": "markdown",
   "id": "5af9e359",
   "metadata": {},
   "source": [
    "The result of the Cramers_V above (0.03) shows a VERY WEAK or NO ASSOCIATION between Frequency of Purchases and subscription status. In other words, SUBCRIBING doesn't clearly influence how often a customer purchases.\n",
    "The HEAT MAP tells us that HENIS has more of NON-SUBSCRIBERS(0) than it does SUBSCRIBERS(1) across all frequencies, regardless of how often they shop. So HENIS should consider creating INCENTIVES to increase their number os susbcribers. The Ideal kind of INCENTIVE to create is one that gives higher or certain DISCOUNTS or freebies to SUBSCRIBERS, it should be targeted specifically at showing PREFERENCE to SUBSCRIBERS in a way that entices more of their UNSUBSCRIBED CUSTOMERS. A good example of this can be (1)LOWER SHIPPING FEE OR (2)FASTER SHIPPING for SUBSCRIBED CUSTOMERS. This particular approach would work best especially for the QUATERLY and EVERT 3 MONTHS subscribers because they already shop a lot, it shouldn't take a lot to convince them to subscribe. \n",
    "Another thing this analysis tell su is that, maybe the issue is with the MARKETING FOR THE SUBSCRIPTION PROGRAM and it should be evaluated with strategic changes being made to it. It is also note worthy that SEGMENTATION is the best approach for HENIS to deal with her CUSTOMERS"
   ]
  },
  {
   "cell_type": "code",
   "execution_count": 323,
   "id": "fcc18be8",
   "metadata": {},
   "outputs": [
    {
     "name": "stdout",
     "output_type": "stream",
     "text": [
      "Effect of Discount on Amount Purchased:\n",
      "0.02\n"
     ]
    },
    {
     "data": {
      "image/png": "[encoded data removed]",
      "text/plain": [
       "<Figure size 360x432 with 2 Axes>"
      ]
     },
     "metadata": {
      "needs_background": "light"
     },
     "output_type": "display_data"
    }
   ],
   "source": [
    "CONtingency_table = pd.crosstab(r['Customer_Category'], r['Discount Applied'])\n",
    "chi2, p, dof, expected = stats.chi2_contingency(CONtingency_table)\n",
    "\n",
    "n= CONtingency_table.sum().sum()\n",
    "min_dim= min(CONtingency_table.shape) -1\n",
    "CRamers_v =np.sqrt(chi2 / (n*min_dim))\n",
    "print(\"Effect of Discount on Amount Purchased:\")\n",
    "print(round(CRamers_v, 2))\n",
    "\n",
    "#HEAT MAP\n",
    "plt.figure(figsize=(5,6))\n",
    "sns.heatmap(CONtingency_table, annot =True, cmap='Blues', fmt='d')\n",
    "\n",
    "plt.title('Effect of Discount on Amount Purchased')\n",
    "plt.ylabel('Customer Category')\n",
    "plt.xlabel('Discount Applied')\n",
    "plt.tight_layout()\n",
    "plt.show()"
   ]
  },
  {
   "cell_type": "markdown",
   "id": "64af028f",
   "metadata": {},
   "source": [
    "The result of the Cramers_V above (0.14) shows a NOT SO STRONG or LOW ASSOCIATION between Discount Applied and Amount spent on Purchases. That is to say, overall, giving out DISCOUNTS to customers actually affects their the amount of things they purchases, but not so much or in a dramatic way.\n",
    "The HEAT AMP above shows different CUSTOMER CATEGORIES(segmented by spending behaviour) respond to discount and we see that LUXURY BUYERS dominate overall(whether or not discounts were applied), in fact most purchases by LUXURY buyers, no discounts were applied and this means that DISCOUNTS are not necessary to drive sales for LUXURY buyers and this makes perfect analytical sense because LUXURY buyers are perceived to be the richest categories of HENIS' customers. The BUDGET BUYERS are the most responsive to DISCOUNTS, even though this is not the major factor determining their constant patronage, possibly with factors like QUALITY of product pating a huge role in their decision. \n",
    "As for the CHEAP buyers, DISCOUNT does not really move the needle for them, possible because even with the discount on some high-end products, they are still not able to afford it and so they should be targeted differently maybe with things like stocking up more affordable alternatives to some high-end products."
   ]
  },
  {
   "cell_type": "code",
   "execution_count": 320,
   "id": "afac9ab0",
   "metadata": {},
   "outputs": [
    {
     "name": "stdout",
     "output_type": "stream",
     "text": [
      "0.04\n"
     ]
    },
    {
     "data": {
      "image/png": "[encoded data removed]",
      "text/plain": [
       "<Figure size 504x432 with 2 Axes>"
      ]
     },
     "metadata": {
      "needs_background": "light"
     },
     "output_type": "display_data"
    }
   ],
   "source": [
    "CONTINGENCY_table = pd.crosstab(r['Frequency of Purchases'], r['Payment Method'])\n",
    "chi2, p, dof, expected = stats.chi2_contingency(CONTINGENCY_table)\n",
    "\n",
    "n= CONTINGENCY_table.sum().sum()\n",
    "min_dim= min(CONTINGENCY_table.shape) -1\n",
    "CRAMERS_v =np.sqrt(chi2 / (n*min_dim))\n",
    "print(round(CRAMERS_v, 2))\n",
    "\n",
    "#HEAT MAP\n",
    "plt.figure(figsize=(7,6))\n",
    "sns.heatmap(CONTINGENCY_table, annot =True, cmap='Blues', fmt='d')\n",
    "\n",
    "plt.title('R/ship Btwn Frequency of Purchase and Payment Method')\n",
    "plt.ylabel('Customer Category')\n",
    "plt.xlabel('Discount Applied')\n",
    "plt.tight_layout()\n",
    "plt.show()"
   ]
  },
  {
   "cell_type": "code",
   "execution_count": 321,
   "id": "ff6e17e5",
   "metadata": {},
   "outputs": [
    {
     "name": "stdout",
     "output_type": "stream",
     "text": [
      "PayPal           677\n",
      "Credit Card      671\n",
      "Cash             670\n",
      "Debit Card       636\n",
      "Venmo            634\n",
      "Bank Transfer    612\n",
      "Name: Payment Method, dtype: int64\n"
     ]
    },
    {
     "data": {
      "image/png": "[encoded data removed]",
      "text/plain": [
       "<Figure size 360x432 with 1 Axes>"
      ]
     },
     "metadata": {
      "needs_background": "light"
     },
     "output_type": "display_data"
    }
   ],
   "source": [
    "B =r['Payment Method']. value_counts()\n",
    "print(B)\n",
    "\n",
    "#visualization\n",
    "plt.figure(figsize=(5,6))\n",
    "B.plot(kind='line',marker='o')\n",
    "plt.title('Preferred Shipping Method ')\n",
    "plt.ylabel('Shipping Method')\n",
    "plt.xlabel('Count')\n",
    "plt.tight_layout()\n",
    "plt.xticks(rotation=45)\n",
    "plt.show()"
   ]
  },
  {
   "cell_type": "code",
   "execution_count": 288,
   "id": "fdff5322",
   "metadata": {},
   "outputs": [
    {
     "name": "stdout",
     "output_type": "stream",
     "text": [
      "Correlation Between Review Rating and Amount Spent:\n",
      "0.0308\n"
     ]
    }
   ],
   "source": [
    "#Compute the Pearson Correlation\n",
    "correlation_1 = r[['Review Rating', 'Price']].corr().iloc[0,1]\n",
    "print(f\"Correlation Between Review Rating and Amount Spent:\")\n",
    "print(round(correlation_1,4))"
   ]
  },
  {
   "cell_type": "markdown",
   "id": "09a2562f",
   "metadata": {},
   "source": [
    "For the correlation computed between Review Rating and Amount Spent (0.0308), although positive, it is very weak and this means that the amount customers spend does not exactly guarantee satisfaction to them "
   ]
  },
  {
   "cell_type": "code",
   "execution_count": 147,
   "id": "d4922192",
   "metadata": {},
   "outputs": [
    {
     "data": {
      "text/plain": [
       "<AxesSubplot:title={'center':'Feature Importance on Review Ratings'}>"
      ]
     },
     "execution_count": 147,
     "metadata": {},
     "output_type": "execute_result"
    },
    {
     "data": {
      "image/png": "[encoded data removed]",
      "text/plain": [
       "<Figure size 432x288 with 1 Axes>"
      ]
     },
     "metadata": {
      "needs_background": "light"
     },
     "output_type": "display_data"
    }
   ],
   "source": [
    "from sklearn.ensemble import RandomForestRegressor\n",
    "r_encoded = pd.get_dummies(r[['Category', 'Shipping Type']], drop_first=True)\n",
    "x = pd.concat([r_encoded, r[['Price', 'Age', 'Previous Purchases']]], axis =1)\n",
    "y =r['Review Rating']\n",
    "\n",
    "model = RandomForestRegressor(random_state=42)\n",
    "model.fit(x, y)\n",
    "\n",
    "importances= pd.Series(model.feature_importances_, index=x.columns)\n",
    "importances.sort_values(ascending=False).head(10).plot(kind='barh', title='Feature Importance on Review Ratings')"
   ]
  },
  {
   "cell_type": "markdown",
   "id": "e5aa6d5f",
   "metadata": {},
   "source": [
    "This shows the top influencers of Customer's review ratings."
   ]
  },
  {
   "cell_type": "code",
   "execution_count": 324,
   "id": "8833e6bb",
   "metadata": {},
   "outputs": [
    {
     "name": "stdout",
     "output_type": "stream",
     "text": [
      "Preffered Shipping Method:\n",
      "Free Shipping     675\n",
      "Standard          654\n",
      "Store Pickup      650\n",
      "Next Day Air      648\n",
      "Express           646\n",
      "2-Day Shipping    627\n",
      "Name: Shipping Type, dtype: int64\n"
     ]
    },
    {
     "data": {
      "image/png": "[encoded data removed]",
      "text/plain": [
       "<Figure size 360x432 with 1 Axes>"
      ]
     },
     "metadata": {
      "needs_background": "light"
     },
     "output_type": "display_data"
    }
   ],
   "source": [
    "R =r['Shipping Type']. value_counts()\n",
    "print(\"Preffered Shipping Method:\")\n",
    "print(R)\n",
    "\n",
    "#\n",
    "plt.figure(figsize=(5,6))\n",
    "R.plot(kind='line',marker='o')\n",
    "plt.title('Preferred Shipping Method ')\n",
    "plt.ylabel('Shipping Method')\n",
    "plt.xlabel('Count')\n",
    "plt.tight_layout()\n",
    "plt.xticks(rotation=45)\n",
    "plt.show()"
   ]
  },
  {
   "cell_type": "markdown",
   "id": "0c222980",
   "metadata": {},
   "source": [
    "This shows the most preffered payment method for customers"
   ]
  },
  {
   "cell_type": "code",
   "execution_count": 181,
   "id": "1c815091",
   "metadata": {},
   "outputs": [
    {
     "name": "stdout",
     "output_type": "stream",
     "text": [
      "\n",
      "Shipping Methods preferred by the different Customers:\n",
      "Customer_Category\n",
      "Cheap Buyers      Next Day Air\n",
      "Budget Buyers    Free Shipping\n",
      "Luxury Buyers    Free Shipping\n",
      "Name: Shipping Type, dtype: object\n"
     ]
    }
   ],
   "source": [
    "import pandas as pd\n",
    "PREF = r.groupby('Customer_Category')['Shipping Type'].agg(lambda x: x.mode().iloc[0])\n",
    "print(\"\\nShipping Methods preferred by the different Customers:\")\n",
    "print(PREF)"
   ]
  },
  {
   "cell_type": "markdown",
   "id": "22f9581d",
   "metadata": {},
   "source": [
    "This shows the shipping method that the different Categories of Customers prefer to use."
   ]
  },
  {
   "cell_type": "code",
   "execution_count": 191,
   "id": "c2497b9b",
   "metadata": {},
   "outputs": [
    {
     "data": {
      "text/html": [
       "<div>\n",
       "<style scoped>\n",
       "    .dataframe tbody tr th:only-of-type {\n",
       "        vertical-align: middle;\n",
       "    }\n",
       "\n",
       "    .dataframe tbody tr th {\n",
       "        vertical-align: top;\n",
       "    }\n",
       "\n",
       "    .dataframe thead th {\n",
       "        text-align: right;\n",
       "    }\n",
       "</style>\n",
       "<table border=\"1\" class=\"dataframe\">\n",
       "  <thead>\n",
       "    <tr style=\"text-align: right;\">\n",
       "      <th></th>\n",
       "      <th>Customer ID</th>\n",
       "      <th>Age</th>\n",
       "      <th>Gender</th>\n",
       "      <th>Product</th>\n",
       "      <th>Category</th>\n",
       "      <th>Price</th>\n",
       "      <th>Location</th>\n",
       "      <th>Size</th>\n",
       "      <th>Color</th>\n",
       "      <th>Season</th>\n",
       "      <th>...</th>\n",
       "      <th>Frequency of Purchases</th>\n",
       "      <th>Customer_Segment</th>\n",
       "      <th>Customer_Category</th>\n",
       "      <th>Age group</th>\n",
       "      <th>Z_Purchase</th>\n",
       "      <th>Segment Label</th>\n",
       "      <th>Subcription_Status</th>\n",
       "      <th>Discount_applied</th>\n",
       "      <th>Promo_Used</th>\n",
       "      <th>promo_clean</th>\n",
       "    </tr>\n",
       "  </thead>\n",
       "  <tbody>\n",
       "    <tr>\n",
       "      <th>0</th>\n",
       "      <td>1</td>\n",
       "      <td>55</td>\n",
       "      <td>Male</td>\n",
       "      <td>Blouse</td>\n",
       "      <td>Clothing</td>\n",
       "      <td>53</td>\n",
       "      <td>Kentucky</td>\n",
       "      <td>L</td>\n",
       "      <td>Gray</td>\n",
       "      <td>Winter</td>\n",
       "      <td>...</td>\n",
       "      <td>Fortnightly</td>\n",
       "      <td>0</td>\n",
       "      <td>Luxury Buyers</td>\n",
       "      <td>Older Adult</td>\n",
       "      <td>-0.785831</td>\n",
       "      <td>Budget</td>\n",
       "      <td>1</td>\n",
       "      <td>1</td>\n",
       "      <td>1</td>\n",
       "      <td>Yes</td>\n",
       "    </tr>\n",
       "    <tr>\n",
       "      <th>1</th>\n",
       "      <td>2</td>\n",
       "      <td>19</td>\n",
       "      <td>Male</td>\n",
       "      <td>Sweater</td>\n",
       "      <td>Clothing</td>\n",
       "      <td>64</td>\n",
       "      <td>Maine</td>\n",
       "      <td>L</td>\n",
       "      <td>Maroon</td>\n",
       "      <td>Winter</td>\n",
       "      <td>...</td>\n",
       "      <td>Fortnightly</td>\n",
       "      <td>1</td>\n",
       "      <td>Luxury Buyers</td>\n",
       "      <td>Teenager</td>\n",
       "      <td>-1.616552</td>\n",
       "      <td>Loyal Big</td>\n",
       "      <td>1</td>\n",
       "      <td>1</td>\n",
       "      <td>1</td>\n",
       "      <td>Yes</td>\n",
       "    </tr>\n",
       "    <tr>\n",
       "      <th>2</th>\n",
       "      <td>3</td>\n",
       "      <td>50</td>\n",
       "      <td>Male</td>\n",
       "      <td>Jeans</td>\n",
       "      <td>Clothing</td>\n",
       "      <td>73</td>\n",
       "      <td>Massachusetts</td>\n",
       "      <td>S</td>\n",
       "      <td>Maroon</td>\n",
       "      <td>Spring</td>\n",
       "      <td>...</td>\n",
       "      <td>Weekly</td>\n",
       "      <td>0</td>\n",
       "      <td>Luxury Buyers</td>\n",
       "      <td>Adult</td>\n",
       "      <td>-0.162789</td>\n",
       "      <td>Budget</td>\n",
       "      <td>1</td>\n",
       "      <td>1</td>\n",
       "      <td>1</td>\n",
       "      <td>Yes</td>\n",
       "    </tr>\n",
       "    <tr>\n",
       "      <th>3</th>\n",
       "      <td>4</td>\n",
       "      <td>21</td>\n",
       "      <td>Male</td>\n",
       "      <td>Sandals</td>\n",
       "      <td>Footwear</td>\n",
       "      <td>90</td>\n",
       "      <td>Rhode Island</td>\n",
       "      <td>M</td>\n",
       "      <td>Maroon</td>\n",
       "      <td>Spring</td>\n",
       "      <td>...</td>\n",
       "      <td>Weekly</td>\n",
       "      <td>2</td>\n",
       "      <td>Luxury Buyers</td>\n",
       "      <td>Young adult</td>\n",
       "      <td>1.637107</td>\n",
       "      <td>Occasional</td>\n",
       "      <td>1</td>\n",
       "      <td>1</td>\n",
       "      <td>1</td>\n",
       "      <td>Yes</td>\n",
       "    </tr>\n",
       "    <tr>\n",
       "      <th>4</th>\n",
       "      <td>5</td>\n",
       "      <td>45</td>\n",
       "      <td>Male</td>\n",
       "      <td>Blouse</td>\n",
       "      <td>Clothing</td>\n",
       "      <td>49</td>\n",
       "      <td>Oregon</td>\n",
       "      <td>M</td>\n",
       "      <td>Turquoise</td>\n",
       "      <td>Spring</td>\n",
       "      <td>...</td>\n",
       "      <td>Annually</td>\n",
       "      <td>0</td>\n",
       "      <td>Budget Buyers</td>\n",
       "      <td>Adult</td>\n",
       "      <td>0.391025</td>\n",
       "      <td>Budget</td>\n",
       "      <td>1</td>\n",
       "      <td>1</td>\n",
       "      <td>1</td>\n",
       "      <td>Yes</td>\n",
       "    </tr>\n",
       "    <tr>\n",
       "      <th>...</th>\n",
       "      <td>...</td>\n",
       "      <td>...</td>\n",
       "      <td>...</td>\n",
       "      <td>...</td>\n",
       "      <td>...</td>\n",
       "      <td>...</td>\n",
       "      <td>...</td>\n",
       "      <td>...</td>\n",
       "      <td>...</td>\n",
       "      <td>...</td>\n",
       "      <td>...</td>\n",
       "      <td>...</td>\n",
       "      <td>...</td>\n",
       "      <td>...</td>\n",
       "      <td>...</td>\n",
       "      <td>...</td>\n",
       "      <td>...</td>\n",
       "      <td>...</td>\n",
       "      <td>...</td>\n",
       "      <td>...</td>\n",
       "      <td>...</td>\n",
       "    </tr>\n",
       "    <tr>\n",
       "      <th>3895</th>\n",
       "      <td>3896</td>\n",
       "      <td>40</td>\n",
       "      <td>Female</td>\n",
       "      <td>Hoodie</td>\n",
       "      <td>Clothing</td>\n",
       "      <td>28</td>\n",
       "      <td>Virginia</td>\n",
       "      <td>L</td>\n",
       "      <td>Turquoise</td>\n",
       "      <td>Summer</td>\n",
       "      <td>...</td>\n",
       "      <td>Weekly</td>\n",
       "      <td>2</td>\n",
       "      <td>Cheap Buyers</td>\n",
       "      <td>Young adult</td>\n",
       "      <td>0.460252</td>\n",
       "      <td>Occasional</td>\n",
       "      <td>0</td>\n",
       "      <td>0</td>\n",
       "      <td>0</td>\n",
       "      <td>No</td>\n",
       "    </tr>\n",
       "    <tr>\n",
       "      <th>3896</th>\n",
       "      <td>3897</td>\n",
       "      <td>52</td>\n",
       "      <td>Female</td>\n",
       "      <td>Backpack</td>\n",
       "      <td>Accessories</td>\n",
       "      <td>49</td>\n",
       "      <td>Iowa</td>\n",
       "      <td>L</td>\n",
       "      <td>White</td>\n",
       "      <td>Spring</td>\n",
       "      <td>...</td>\n",
       "      <td>Bi-Weekly</td>\n",
       "      <td>0</td>\n",
       "      <td>Budget Buyers</td>\n",
       "      <td>Older Adult</td>\n",
       "      <td>1.083293</td>\n",
       "      <td>Budget</td>\n",
       "      <td>0</td>\n",
       "      <td>0</td>\n",
       "      <td>0</td>\n",
       "      <td>No</td>\n",
       "    </tr>\n",
       "    <tr>\n",
       "      <th>3897</th>\n",
       "      <td>3898</td>\n",
       "      <td>46</td>\n",
       "      <td>Female</td>\n",
       "      <td>Belt</td>\n",
       "      <td>Accessories</td>\n",
       "      <td>33</td>\n",
       "      <td>New Jersey</td>\n",
       "      <td>L</td>\n",
       "      <td>Green</td>\n",
       "      <td>Spring</td>\n",
       "      <td>...</td>\n",
       "      <td>Quarterly</td>\n",
       "      <td>0</td>\n",
       "      <td>Budget Buyers</td>\n",
       "      <td>Adult</td>\n",
       "      <td>-0.093563</td>\n",
       "      <td>Budget</td>\n",
       "      <td>0</td>\n",
       "      <td>0</td>\n",
       "      <td>0</td>\n",
       "      <td>No</td>\n",
       "    </tr>\n",
       "    <tr>\n",
       "      <th>3898</th>\n",
       "      <td>3899</td>\n",
       "      <td>44</td>\n",
       "      <td>Female</td>\n",
       "      <td>Shoes</td>\n",
       "      <td>Footwear</td>\n",
       "      <td>77</td>\n",
       "      <td>Minnesota</td>\n",
       "      <td>S</td>\n",
       "      <td>Brown</td>\n",
       "      <td>Summer</td>\n",
       "      <td>...</td>\n",
       "      <td>Weekly</td>\n",
       "      <td>1</td>\n",
       "      <td>Luxury Buyers</td>\n",
       "      <td>Adult</td>\n",
       "      <td>-0.093563</td>\n",
       "      <td>Loyal Big</td>\n",
       "      <td>0</td>\n",
       "      <td>0</td>\n",
       "      <td>0</td>\n",
       "      <td>No</td>\n",
       "    </tr>\n",
       "    <tr>\n",
       "      <th>3899</th>\n",
       "      <td>3900</td>\n",
       "      <td>52</td>\n",
       "      <td>Female</td>\n",
       "      <td>Handbag</td>\n",
       "      <td>Accessories</td>\n",
       "      <td>81</td>\n",
       "      <td>California</td>\n",
       "      <td>M</td>\n",
       "      <td>Beige</td>\n",
       "      <td>Spring</td>\n",
       "      <td>...</td>\n",
       "      <td>Quarterly</td>\n",
       "      <td>0</td>\n",
       "      <td>Luxury Buyers</td>\n",
       "      <td>Older Adult</td>\n",
       "      <td>0.529479</td>\n",
       "      <td>Budget</td>\n",
       "      <td>0</td>\n",
       "      <td>0</td>\n",
       "      <td>0</td>\n",
       "      <td>No</td>\n",
       "    </tr>\n",
       "  </tbody>\n",
       "</table>\n",
       "<p>3900 rows × 27 columns</p>\n",
       "</div>"
      ],
      "text/plain": [
       "      Customer ID  Age  Gender   Product     Category  Price       Location  \\\n",
       "0               1   55    Male    Blouse     Clothing     53       Kentucky   \n",
       "1               2   19    Male   Sweater     Clothing     64          Maine   \n",
       "2               3   50    Male     Jeans     Clothing     73  Massachusetts   \n",
       "3               4   21    Male   Sandals     Footwear     90   Rhode Island   \n",
       "4               5   45    Male    Blouse     Clothing     49         Oregon   \n",
       "...           ...  ...     ...       ...          ...    ...            ...   \n",
       "3895         3896   40  Female    Hoodie     Clothing     28       Virginia   \n",
       "3896         3897   52  Female  Backpack  Accessories     49           Iowa   \n",
       "3897         3898   46  Female      Belt  Accessories     33     New Jersey   \n",
       "3898         3899   44  Female     Shoes     Footwear     77      Minnesota   \n",
       "3899         3900   52  Female   Handbag  Accessories     81     California   \n",
       "\n",
       "     Size      Color  Season  ...  Frequency of Purchases Customer_Segment  \\\n",
       "0       L       Gray  Winter  ...             Fortnightly                0   \n",
       "1       L     Maroon  Winter  ...             Fortnightly                1   \n",
       "2       S     Maroon  Spring  ...                  Weekly                0   \n",
       "3       M     Maroon  Spring  ...                  Weekly                2   \n",
       "4       M  Turquoise  Spring  ...                Annually                0   \n",
       "...   ...        ...     ...  ...                     ...              ...   \n",
       "3895    L  Turquoise  Summer  ...                  Weekly                2   \n",
       "3896    L      White  Spring  ...               Bi-Weekly                0   \n",
       "3897    L      Green  Spring  ...               Quarterly                0   \n",
       "3898    S      Brown  Summer  ...                  Weekly                1   \n",
       "3899    M      Beige  Spring  ...               Quarterly                0   \n",
       "\n",
       "     Customer_Category    Age group Z_Purchase  Segment Label  \\\n",
       "0        Luxury Buyers  Older Adult  -0.785831         Budget   \n",
       "1        Luxury Buyers     Teenager  -1.616552      Loyal Big   \n",
       "2        Luxury Buyers        Adult  -0.162789         Budget   \n",
       "3        Luxury Buyers  Young adult   1.637107     Occasional   \n",
       "4        Budget Buyers        Adult   0.391025         Budget   \n",
       "...                ...          ...        ...            ...   \n",
       "3895      Cheap Buyers  Young adult   0.460252     Occasional   \n",
       "3896     Budget Buyers  Older Adult   1.083293         Budget   \n",
       "3897     Budget Buyers        Adult  -0.093563         Budget   \n",
       "3898     Luxury Buyers        Adult  -0.093563      Loyal Big   \n",
       "3899     Luxury Buyers  Older Adult   0.529479         Budget   \n",
       "\n",
       "     Subcription_Status Discount_applied  Promo_Used promo_clean  \n",
       "0                     1                1           1         Yes  \n",
       "1                     1                1           1         Yes  \n",
       "2                     1                1           1         Yes  \n",
       "3                     1                1           1         Yes  \n",
       "4                     1                1           1         Yes  \n",
       "...                 ...              ...         ...         ...  \n",
       "3895                  0                0           0          No  \n",
       "3896                  0                0           0          No  \n",
       "3897                  0                0           0          No  \n",
       "3898                  0                0           0          No  \n",
       "3899                  0                0           0          No  \n",
       "\n",
       "[3900 rows x 27 columns]"
      ]
     },
     "execution_count": 191,
     "metadata": {},
     "output_type": "execute_result"
    }
   ],
   "source": [
    "#Saving the updated csv file\n",
    "import pandas as pd\n",
    "r.to_csv('CUSTOMER SUBSCRIPTION.csv', index=False)\n",
    "\n",
    "r=pd.read_csv('CUSTOMER SUBSCRIPTION.csv')\n",
    "r"
   ]
  },
  {
   "cell_type": "code",
   "execution_count": null,
   "id": "3dff7274",
   "metadata": {},
   "outputs": [],
   "source": []
  }
 ],
 "metadata": {
  "kernelspec": {
   "display_name": "Python 3 (ipykernel)",
   "language": "python",
   "name": "python3"
  },
  "language_info": {
   "codemirror_mode": {
    "name": "ipython",
    "version": 3
   },
   "file_extension": ".py",
   "mimetype": "text/x-python",
   "name": "python",
   "nbconvert_exporter": "python",
   "pygments_lexer": "ipython3",
   "version": "3.9.7"
  }
 },
 "nbformat": 4,
 "nbformat_minor": 5
}
